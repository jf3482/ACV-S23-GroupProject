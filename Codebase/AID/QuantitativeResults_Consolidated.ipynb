{
 "cells": [
  {
   "cell_type": "markdown",
   "id": "4d188950",
   "metadata": {},
   "source": [
    "# Consolidation of results"
   ]
  },
  {
   "cell_type": "markdown",
   "id": "7db615c7",
   "metadata": {},
   "source": [
    "## Imports"
   ]
  },
  {
   "cell_type": "code",
   "execution_count": 2,
   "id": "224e6eaf",
   "metadata": {},
   "outputs": [],
   "source": [
    "import os\n",
    "import re\n",
    "import numpy as np\n",
    "import pandas as pd"
   ]
  },
  {
   "cell_type": "markdown",
   "id": "c023af19",
   "metadata": {},
   "source": [
    "## Directories"
   ]
  },
  {
   "cell_type": "code",
   "execution_count": 30,
   "id": "ae4bba07",
   "metadata": {},
   "outputs": [],
   "source": [
    "dir_res = '../../Data/AID/Outputs2/'\n",
    "str_res = ['8xto1xs','4xto1xs','8xto1x','4xto1x']\n",
    "\n"
   ]
  },
  {
   "cell_type": "markdown",
   "id": "aeae8f6e",
   "metadata": {},
   "source": [
    "## Load and eval"
   ]
  },
  {
   "cell_type": "code",
   "execution_count": 33,
   "id": "78d51298",
   "metadata": {},
   "outputs": [
    {
     "name": "stdout",
     "output_type": "stream",
     "text": [
      "Testing for dir_8xto1xs test: \n",
      "LPIPS_mean: 0.535439918368635\n",
      "LPIPS_std: 0.051072167848656806\n",
      "PSNR_mean: 22.065902736801227\n",
      "PSNR_std: 2.564418871989973\n",
      "SSIM_mean: 0.4427978481570926\n",
      "SSIM_std: 0.08218361199473712\n",
      "\n",
      "Testing for dir_8xto1xs valid: \n",
      "LPIPS_mean: 0.4520467697496874\n",
      "LPIPS_std: 0.06808136291887437\n",
      "PSNR_mean: 22.94826780436189\n",
      "PSNR_std: 3.461147074490806\n",
      "SSIM_mean: 0.559927699618251\n",
      "SSIM_std: 0.11491590406398507\n",
      "\n",
      "Testing for dir_4xto1xs test: \n",
      "LPIPS_mean: 0.3634594629348164\n",
      "LPIPS_std: 0.06078916001867261\n",
      "PSNR_mean: 25.141048372195435\n",
      "PSNR_std: 2.701476411798508\n",
      "SSIM_mean: 0.6935253577473341\n",
      "SSIM_std: 0.07945967883010349\n",
      "\n",
      "Testing for dir_4xto1xs valid: \n",
      "LPIPS_mean: 0.2763092738003975\n",
      "LPIPS_std: 0.07226890604623147\n",
      "PSNR_mean: 27.114001981345893\n",
      "PSNR_std: 4.047080118089359\n",
      "SSIM_mean: 0.7866684687287567\n",
      "SSIM_std: 0.08836870339879237\n",
      "\n",
      "Testing for dir_8xto1x test: \n",
      "LPIPS_mean: 0.5463991471579377\n",
      "LPIPS_std: 0.047559916257217186\n",
      "PSNR_mean: 21.90450907360888\n",
      "PSNR_std: 2.6032301060782057\n",
      "SSIM_mean: 0.4272742717806495\n",
      "SSIM_std: 0.08017983630644014\n",
      "\n",
      "Testing for dir_8xto1x valid: \n",
      "LPIPS_mean: 0.46994690686823376\n",
      "LPIPS_std: 0.06542388471471101\n",
      "PSNR_mean: 22.647193729868402\n",
      "PSNR_std: 3.537817651094146\n",
      "SSIM_mean: 0.5349197016441593\n",
      "SSIM_std: 0.11698572827349381\n",
      "\n",
      "Testing for dir_4xto1x test: \n",
      "LPIPS_mean: 0.3683931684829819\n",
      "LPIPS_std: 0.06073121131658399\n",
      "PSNR_mean: 25.17870385942603\n",
      "PSNR_std: 2.7214049407392995\n",
      "SSIM_mean: 0.6944289710421803\n",
      "SSIM_std: 0.0786267686878662\n",
      "\n",
      "Testing for dir_4xto1x valid: \n",
      "LPIPS_mean: 0.2792821156242526\n",
      "LPIPS_std: 0.07228605197772332\n",
      "PSNR_mean: 27.20543483942464\n",
      "PSNR_std: 4.164006052797928\n",
      "SSIM_mean: 0.7871834296020773\n",
      "SSIM_std: 0.08805022524113809\n",
      "\n"
     ]
    }
   ],
   "source": [
    "res = []\n",
    "for curr in str_res:\n",
    "    for str_test in ['test','valid']:\n",
    "        print('Testing for ' + curr + ' ' + str_test +': ')\n",
    "        df = pd.read_csv(curr + '_' + str_test + '_result.csv',header=None)\n",
    "        lpips_mean = df[2].mean()\n",
    "        lpips_std = df[2].std()\n",
    "        print(\"SR_LPIPS_mean: \" + str(lpips_mean))\n",
    "        print(\"SR_LPIPS_std: \" + str(lpips_std))\n",
    "\n",
    "        PSNR_mean = df[3].mean()\n",
    "        PSNR_std = df[3].std()\n",
    "        print(\"SR_PSNR_mean: \" + str(PSNR_mean))\n",
    "        print(\"SR_PSNR_std: \" + str(PSNR_std))\n",
    "\n",
    "        SSIM_mean = df[4].mean()\n",
    "        SSIM_std = df[4].std()\n",
    "        print(\"SR_SSIM_mean: \" + str(SSIM_mean))\n",
    "        print(\"SR_SSIM_std: \" + str(SSIM_std))\n",
    "        \n",
    "        lpips_mean2 = df[5].mean()\n",
    "        lpips_std2 = df[5].std()\n",
    "        print(\"LR_LPIPS_mean: \" + str(lpips_mean2))\n",
    "        print(\"LR_LPIPS_std: \" + str(lpips_std2))\n",
    "\n",
    "        PSNR_mean2 = df[6].mean()\n",
    "        PSNR_std2 = df[6].std()\n",
    "        print(\"LR_PSNR_mean: \" + str(PSNR_mean2))\n",
    "        print(\"LR_PSNR_std: \" + str(PSNR_std2))\n",
    "\n",
    "        SSIM_mean2 = df[7].mean()\n",
    "        SSIM_std2 = df[7].std()\n",
    "        print(\"LR_SSIM_mean: \" + str(SSIM_mean2))\n",
    "        print(\"LR_SSIM_std: \" + str(SSIM_std2))\n",
    "        \n",
    "        \n",
    "        print('')\n",
    "        \n",
    "        res.append([lpips_mean, lpips_std, PSNR_mean, PSNR_std, SSIM_mean, SSIM_std, lpips_mean2, lpips_std2, PSNR_mean2, PSNR_std2, SSIM_mean2, SSIM_std2])"
   ]
  },
  {
   "cell_type": "code",
   "execution_count": 36,
   "id": "22aef180",
   "metadata": {},
   "outputs": [
    {
     "data": {
      "text/plain": [
       "8"
      ]
     },
     "execution_count": 36,
     "metadata": {},
     "output_type": "execute_result"
    }
   ],
   "source": [
    "len(res)"
   ]
  },
  {
   "cell_type": "code",
   "execution_count": 43,
   "id": "4f90c25f",
   "metadata": {},
   "outputs": [
    {
     "name": "stdout",
     "output_type": "stream",
     "text": [
      "   lpips_mean  PSNR_mean  SSIM_mean\n",
      "0       0.535     22.066      0.443\n",
      "1       0.452     22.948      0.560\n",
      "2       0.363     25.141      0.694\n",
      "3       0.276     27.114      0.787\n",
      "4       0.546     21.905      0.427\n",
      "5       0.470     22.647      0.535\n",
      "6       0.368     25.179      0.694\n",
      "7       0.279     27.205      0.787\n"
     ]
    }
   ],
   "source": [
    "# Create a DataFrame\n",
    "df = pd.DataFrame(res, columns=['lpips_mean', 'lpips_std', 'PSNR_mean', 'PSNR_std', 'SSIM_mean', 'SSIM_std'])\n",
    "\n",
    "# Display the DataFrame"
   ]
  },
  {
   "cell_type": "code",
   "execution_count": 59,
   "id": "ef5f0020",
   "metadata": {},
   "outputs": [],
   "source": [
    "df.to_csv('./res_df.csv')\n",
    "          "
   ]
  },
  {
   "cell_type": "code",
   "execution_count": null,
   "id": "8eb9c7f1",
   "metadata": {},
   "outputs": [],
   "source": []
  }
 ],
 "metadata": {
  "kernelspec": {
   "display_name": "Python 3 (ipykernel)",
   "language": "python",
   "name": "python3"
  },
  "language_info": {
   "codemirror_mode": {
    "name": "ipython",
    "version": 3
   },
   "file_extension": ".py",
   "mimetype": "text/x-python",
   "name": "python",
   "nbconvert_exporter": "python",
   "pygments_lexer": "ipython3",
   "version": "3.9.15"
  }
 },
 "nbformat": 4,
 "nbformat_minor": 5
}
